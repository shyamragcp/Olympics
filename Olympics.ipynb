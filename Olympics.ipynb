{
 "cells": [
  {
   "cell_type": "markdown",
   "metadata": {},
   "source": [
    "120 years of Olympic history: atheletes and results.\n",
    "    athens 1896 to 2016"
   ]
  },
  {
   "cell_type": "markdown",
   "metadata": {},
   "source": [
    "Two Data sets:\n",
    "    Athletes events and noc regions."
   ]
  },
  {
   "cell_type": "markdown",
   "metadata": {},
   "source": [
    "Data set info:\n",
    "\n",
    "ID - Unique number for each athlete,\n",
    "Name - Athlete’s name,\n",
    "Sex - M or F,\n",
    "Age - Integer,\n",
    "Height - In centimeters,\n",
    "Weight - In kilograms,\n",
    "Team - Team name,\n",
    "NOC - National Olympic Committee 3-letter code,\n",
    "Games - Year and season,\n",
    "Year - Integer,\n",
    "Season - Summer or Winter,\n",
    "City - Host city,\n",
    "Sport - Sport,\n",
    "Event - Event,\n",
    "Medal - Gold, Silver, Bronze, or NA."
   ]
  },
  {
   "cell_type": "code",
   "execution_count": 1,
   "metadata": {},
   "outputs": [],
   "source": [
    "# Packages import\n",
    "import numpy as np\n",
    "import pandas as pd\n",
    "import matplotlib.pyplot as plt\n",
    "import seaborn as sns\n",
    "import math"
   ]
  },
  {
   "cell_type": "code",
   "execution_count": 2,
   "metadata": {},
   "outputs": [],
   "source": [
    "# importing the data sets:\n",
    "atheletes = pd.read_csv(\"athlete_events.csv\")\n",
    "regions = pd.read_csv(\"noc_regions.csv\")\n"
   ]
  },
  {
   "cell_type": "code",
   "execution_count": 13,
   "metadata": {},
   "outputs": [
    {
     "data": {
      "text/html": [
       "<div>\n",
       "<style scoped>\n",
       "    .dataframe tbody tr th:only-of-type {\n",
       "        vertical-align: middle;\n",
       "    }\n",
       "\n",
       "    .dataframe tbody tr th {\n",
       "        vertical-align: top;\n",
       "    }\n",
       "\n",
       "    .dataframe thead th {\n",
       "        text-align: right;\n",
       "    }\n",
       "</style>\n",
       "<table border=\"1\" class=\"dataframe\">\n",
       "  <thead>\n",
       "    <tr style=\"text-align: right;\">\n",
       "      <th></th>\n",
       "      <th>NOC</th>\n",
       "      <th>region</th>\n",
       "    </tr>\n",
       "  </thead>\n",
       "  <tbody>\n",
       "    <tr>\n",
       "      <th>0</th>\n",
       "      <td>AFG</td>\n",
       "      <td>Afghanistan</td>\n",
       "    </tr>\n",
       "    <tr>\n",
       "      <th>1</th>\n",
       "      <td>AHO</td>\n",
       "      <td>Curacao</td>\n",
       "    </tr>\n",
       "    <tr>\n",
       "      <th>2</th>\n",
       "      <td>ALB</td>\n",
       "      <td>Albania</td>\n",
       "    </tr>\n",
       "    <tr>\n",
       "      <th>3</th>\n",
       "      <td>ALG</td>\n",
       "      <td>Algeria</td>\n",
       "    </tr>\n",
       "    <tr>\n",
       "      <th>4</th>\n",
       "      <td>AND</td>\n",
       "      <td>Andorra</td>\n",
       "    </tr>\n",
       "  </tbody>\n",
       "</table>\n",
       "</div>"
      ],
      "text/plain": [
       "   NOC       region\n",
       "0  AFG  Afghanistan\n",
       "1  AHO      Curacao\n",
       "2  ALB      Albania\n",
       "3  ALG      Algeria\n",
       "4  AND      Andorra"
      ]
     },
     "execution_count": 13,
     "metadata": {},
     "output_type": "execute_result"
    }
   ],
   "source": [
    "regions = regions.iloc[:,0:2]\n",
    "regions.head()"
   ]
  },
  {
   "cell_type": "markdown",
   "metadata": {},
   "source": [
    "# Describing the data:\n"
   ]
  },
  {
   "cell_type": "code",
   "execution_count": 3,
   "metadata": {},
   "outputs": [
    {
     "name": "stdout",
     "output_type": "stream",
     "text": [
      "<class 'pandas.core.frame.DataFrame'>\n",
      "RangeIndex: 271116 entries, 0 to 271115\n",
      "Data columns (total 15 columns):\n",
      "ID        271116 non-null int64\n",
      "Name      271116 non-null object\n",
      "Sex       271116 non-null object\n",
      "Age       261642 non-null float64\n",
      "Height    210945 non-null float64\n",
      "Weight    208241 non-null float64\n",
      "Team      271116 non-null object\n",
      "NOC       271116 non-null object\n",
      "Games     271116 non-null object\n",
      "Year      271116 non-null int64\n",
      "Season    271116 non-null object\n",
      "City      271116 non-null object\n",
      "Sport     271116 non-null object\n",
      "Event     271116 non-null object\n",
      "Medal     39783 non-null object\n",
      "dtypes: float64(3), int64(2), object(10)\n",
      "memory usage: 31.0+ MB\n"
     ]
    }
   ],
   "source": [
    "atheletes.info()"
   ]
  },
  {
   "cell_type": "markdown",
   "metadata": {},
   "source": [
    "271116 Observations and 15 columns details.\n"
   ]
  },
  {
   "cell_type": "code",
   "execution_count": 4,
   "metadata": {},
   "outputs": [
    {
     "data": {
      "text/html": [
       "<div>\n",
       "<style scoped>\n",
       "    .dataframe tbody tr th:only-of-type {\n",
       "        vertical-align: middle;\n",
       "    }\n",
       "\n",
       "    .dataframe tbody tr th {\n",
       "        vertical-align: top;\n",
       "    }\n",
       "\n",
       "    .dataframe thead th {\n",
       "        text-align: right;\n",
       "    }\n",
       "</style>\n",
       "<table border=\"1\" class=\"dataframe\">\n",
       "  <thead>\n",
       "    <tr style=\"text-align: right;\">\n",
       "      <th></th>\n",
       "      <th>ID</th>\n",
       "      <th>Name</th>\n",
       "      <th>Sex</th>\n",
       "      <th>Age</th>\n",
       "      <th>Height</th>\n",
       "      <th>Weight</th>\n",
       "      <th>Team</th>\n",
       "      <th>NOC</th>\n",
       "      <th>Games</th>\n",
       "      <th>Year</th>\n",
       "      <th>Season</th>\n",
       "      <th>City</th>\n",
       "      <th>Sport</th>\n",
       "      <th>Event</th>\n",
       "      <th>Medal</th>\n",
       "    </tr>\n",
       "  </thead>\n",
       "  <tbody>\n",
       "    <tr>\n",
       "      <th>0</th>\n",
       "      <td>1</td>\n",
       "      <td>A Dijiang</td>\n",
       "      <td>M</td>\n",
       "      <td>24.0</td>\n",
       "      <td>180.0</td>\n",
       "      <td>80.0</td>\n",
       "      <td>China</td>\n",
       "      <td>CHN</td>\n",
       "      <td>1992 Summer</td>\n",
       "      <td>1992</td>\n",
       "      <td>Summer</td>\n",
       "      <td>Barcelona</td>\n",
       "      <td>Basketball</td>\n",
       "      <td>Basketball Men's Basketball</td>\n",
       "      <td>NaN</td>\n",
       "    </tr>\n",
       "    <tr>\n",
       "      <th>1</th>\n",
       "      <td>2</td>\n",
       "      <td>A Lamusi</td>\n",
       "      <td>M</td>\n",
       "      <td>23.0</td>\n",
       "      <td>170.0</td>\n",
       "      <td>60.0</td>\n",
       "      <td>China</td>\n",
       "      <td>CHN</td>\n",
       "      <td>2012 Summer</td>\n",
       "      <td>2012</td>\n",
       "      <td>Summer</td>\n",
       "      <td>London</td>\n",
       "      <td>Judo</td>\n",
       "      <td>Judo Men's Extra-Lightweight</td>\n",
       "      <td>NaN</td>\n",
       "    </tr>\n",
       "    <tr>\n",
       "      <th>2</th>\n",
       "      <td>3</td>\n",
       "      <td>Gunnar Nielsen Aaby</td>\n",
       "      <td>M</td>\n",
       "      <td>24.0</td>\n",
       "      <td>NaN</td>\n",
       "      <td>NaN</td>\n",
       "      <td>Denmark</td>\n",
       "      <td>DEN</td>\n",
       "      <td>1920 Summer</td>\n",
       "      <td>1920</td>\n",
       "      <td>Summer</td>\n",
       "      <td>Antwerpen</td>\n",
       "      <td>Football</td>\n",
       "      <td>Football Men's Football</td>\n",
       "      <td>NaN</td>\n",
       "    </tr>\n",
       "    <tr>\n",
       "      <th>3</th>\n",
       "      <td>4</td>\n",
       "      <td>Edgar Lindenau Aabye</td>\n",
       "      <td>M</td>\n",
       "      <td>34.0</td>\n",
       "      <td>NaN</td>\n",
       "      <td>NaN</td>\n",
       "      <td>Denmark/Sweden</td>\n",
       "      <td>DEN</td>\n",
       "      <td>1900 Summer</td>\n",
       "      <td>1900</td>\n",
       "      <td>Summer</td>\n",
       "      <td>Paris</td>\n",
       "      <td>Tug-Of-War</td>\n",
       "      <td>Tug-Of-War Men's Tug-Of-War</td>\n",
       "      <td>Gold</td>\n",
       "    </tr>\n",
       "    <tr>\n",
       "      <th>4</th>\n",
       "      <td>5</td>\n",
       "      <td>Christine Jacoba Aaftink</td>\n",
       "      <td>F</td>\n",
       "      <td>21.0</td>\n",
       "      <td>185.0</td>\n",
       "      <td>82.0</td>\n",
       "      <td>Netherlands</td>\n",
       "      <td>NED</td>\n",
       "      <td>1988 Winter</td>\n",
       "      <td>1988</td>\n",
       "      <td>Winter</td>\n",
       "      <td>Calgary</td>\n",
       "      <td>Speed Skating</td>\n",
       "      <td>Speed Skating Women's 500 metres</td>\n",
       "      <td>NaN</td>\n",
       "    </tr>\n",
       "  </tbody>\n",
       "</table>\n",
       "</div>"
      ],
      "text/plain": [
       "   ID                      Name Sex   Age  Height  Weight            Team  \\\n",
       "0   1                 A Dijiang   M  24.0   180.0    80.0           China   \n",
       "1   2                  A Lamusi   M  23.0   170.0    60.0           China   \n",
       "2   3       Gunnar Nielsen Aaby   M  24.0     NaN     NaN         Denmark   \n",
       "3   4      Edgar Lindenau Aabye   M  34.0     NaN     NaN  Denmark/Sweden   \n",
       "4   5  Christine Jacoba Aaftink   F  21.0   185.0    82.0     Netherlands   \n",
       "\n",
       "   NOC        Games  Year  Season       City          Sport  \\\n",
       "0  CHN  1992 Summer  1992  Summer  Barcelona     Basketball   \n",
       "1  CHN  2012 Summer  2012  Summer     London           Judo   \n",
       "2  DEN  1920 Summer  1920  Summer  Antwerpen       Football   \n",
       "3  DEN  1900 Summer  1900  Summer      Paris     Tug-Of-War   \n",
       "4  NED  1988 Winter  1988  Winter    Calgary  Speed Skating   \n",
       "\n",
       "                              Event Medal  \n",
       "0       Basketball Men's Basketball   NaN  \n",
       "1      Judo Men's Extra-Lightweight   NaN  \n",
       "2           Football Men's Football   NaN  \n",
       "3       Tug-Of-War Men's Tug-Of-War  Gold  \n",
       "4  Speed Skating Women's 500 metres   NaN  "
      ]
     },
     "execution_count": 4,
     "metadata": {},
     "output_type": "execute_result"
    }
   ],
   "source": [
    "atheletes.head()"
   ]
  },
  {
   "cell_type": "code",
   "execution_count": 5,
   "metadata": {},
   "outputs": [
    {
     "name": "stdout",
     "output_type": "stream",
     "text": [
      "Sex         F       M     All\n",
      "Season                       \n",
      "Summer  59443  163109  222552\n",
      "Winter  15079   33485   48564\n",
      "All     74522  196594  271116\n"
     ]
    },
    {
     "data": {
      "image/png": "[encoded data removed]",
      "text/plain": [
       "<matplotlib.figure.Figure at 0x11dc1d6dc50>"
      ]
     },
     "metadata": {},
     "output_type": "display_data"
    }
   ],
   "source": [
    "plot_1=pd.pivot_table(atheletes,index=\"Season\",columns=\"Sex\",aggfunc=\"count\",values=\"ID\",margins=True)\n",
    "plot_1.plot(kind=\"bar\")\n",
    "print(plot_1)"
   ]
  },
  {
   "cell_type": "code",
   "execution_count": 6,
   "metadata": {},
   "outputs": [
    {
     "name": "stdout",
     "output_type": "stream",
     "text": [
      "Sex             F          M\n",
      "Season                      \n",
      "Summer  26.709713  73.290287\n",
      "Winter  31.049749  68.950251\n",
      "All     27.487127  72.512873\n"
     ]
    },
    {
     "data": {
      "text/plain": [
       "<matplotlib.axes._subplots.AxesSubplot at 0x11dc0814ba8>"
      ]
     },
     "execution_count": 6,
     "metadata": {},
     "output_type": "execute_result"
    },
    {
     "data": {
      "image/png": "[encoded data removed]",
      "text/plain": [
       "<matplotlib.figure.Figure at 0x11db8a7c048>"
      ]
     },
     "metadata": {},
     "output_type": "display_data"
    }
   ],
   "source": [
    "plot_1p = plot_1.iloc[:,0:2].div(plot_1.iloc[:,-1]/100,axis=0)\n",
    "print(plot_1p)\n",
    "plot_1p.plot(kind=\"bar\",stacked=True)"
   ]
  },
  {
   "cell_type": "markdown",
   "metadata": {},
   "source": [
    "Proportions for male and female during both season are same."
   ]
  },
  {
   "cell_type": "code",
   "execution_count": 7,
   "metadata": {},
   "outputs": [
    {
     "name": "stdout",
     "output_type": "stream",
     "text": [
      "Sex         F         M     All\n",
      "Year                           \n",
      "1896      NaN     380.0     380\n",
      "1900     33.0    1903.0    1936\n",
      "1904     16.0    1285.0    1301\n",
      "1906     11.0    1722.0    1733\n",
      "1908     47.0    3054.0    3101\n",
      "1912     87.0    3953.0    4040\n",
      "1920    134.0    4158.0    4292\n",
      "1924    261.0    5432.0    5693\n",
      "1928    437.0    5137.0    5574\n",
      "1932    369.0    2952.0    3321\n",
      "1936    549.0    6852.0    7401\n",
      "1948    761.0    6719.0    7480\n",
      "1952   1682.0    7676.0    9358\n",
      "1956   1139.0    5295.0    6434\n",
      "1960   1730.0    7505.0    9235\n",
      "1964   1752.0    7728.0    9480\n",
      "1968   2193.0    8286.0   10479\n",
      "1972   2608.0    9351.0   11959\n",
      "1976   2606.0    7896.0   10502\n",
      "1980   2186.0    6751.0    8937\n",
      "1984   2983.0    8605.0   11588\n",
      "1988   4223.0   10453.0   14676\n",
      "1992   5178.0   11235.0   16413\n",
      "1994   1105.0    2055.0    3160\n",
      "1996   5008.0    8772.0   13780\n",
      "1998   1384.0    2221.0    3605\n",
      "2000   5431.0    8390.0   13821\n",
      "2002   1582.0    2527.0    4109\n",
      "2004   5546.0    7897.0   13443\n",
      "2006   1757.0    2625.0    4382\n",
      "2008   5816.0    7786.0   13602\n",
      "2010   1847.0    2555.0    4402\n",
      "2012   5815.0    7105.0   12920\n",
      "2014   2023.0    2868.0    4891\n",
      "2016   6223.0    7465.0   13688\n",
      "All   74522.0  196594.0  271116\n",
      "\n",
      "\n",
      "Percent table -- \n",
      " Sex           F           M    All\n",
      "Year                              \n",
      "1896        NaN  100.000000  100.0\n",
      "1900   1.704545   98.295455  100.0\n",
      "1904   1.229823   98.770177  100.0\n",
      "1906   0.634737   99.365263  100.0\n",
      "1908   1.515640   98.484360  100.0\n",
      "1912   2.153465   97.846535  100.0\n",
      "1920   3.122088   96.877912  100.0\n",
      "1924   4.584578   95.415422  100.0\n",
      "1928   7.839971   92.160029  100.0\n",
      "1932  11.111111   88.888889  100.0\n",
      "1936   7.417916   92.582084  100.0\n",
      "1948  10.173797   89.826203  100.0\n",
      "1952  17.973926   82.026074  100.0\n",
      "1956  17.702829   82.297171  100.0\n",
      "1960  18.733081   81.266919  100.0\n",
      "1964  18.481013   81.518987  100.0\n",
      "1968  20.927569   79.072431  100.0\n",
      "1972  21.807843   78.192157  100.0\n",
      "1976  24.814321   75.185679  100.0\n",
      "1980  24.460110   75.539890  100.0\n",
      "1984  25.742147   74.257853  100.0\n",
      "1988  28.774871   71.225129  100.0\n",
      "1992  31.548163   68.451837  100.0\n",
      "1994  34.968354   65.031646  100.0\n",
      "1996  36.342525   63.657475  100.0\n",
      "1998  38.391123   61.608877  100.0\n",
      "2000  39.295275   60.704725  100.0\n",
      "2002  38.500852   61.499148  100.0\n",
      "2004  41.255672   58.744328  100.0\n",
      "2006  40.095847   59.904153  100.0\n",
      "2008  42.758418   57.241582  100.0\n",
      "2010  41.958201   58.041799  100.0\n",
      "2012  45.007740   54.992260  100.0\n",
      "2014  41.361685   58.638315  100.0\n",
      "2016  45.463179   54.536821  100.0\n",
      "All   27.487127   72.512873  100.0\n"
     ]
    },
    {
     "data": {
      "text/plain": [
       "<matplotlib.axes._subplots.AxesSubplot at 0x11dc08ad198>"
      ]
     },
     "execution_count": 7,
     "metadata": {},
     "output_type": "execute_result"
    },
    {
     "data": {
      "image/png": "[encoded data removed]",
      "text/plain": [
       "<matplotlib.figure.Figure at 0x11dc087a780>"
      ]
     },
     "metadata": {},
     "output_type": "display_data"
    }
   ],
   "source": [
    "# Yearly male female propoortions.\n",
    "pivot_2 = pd.pivot_table(atheletes,index=\"Year\",columns=\"Sex\",values=\"ID\",aggfunc=\"count\",margins=True)\n",
    "print(pivot_2)\n",
    "pivot_2p = pivot_2.div(pivot_2.iloc[:,-1]/100,axis=0)\n",
    "print(\"\\n\\nPercent table -- \\n\",pivot_2p)\n",
    "pivot_2p.iloc[0:len(pivot_2p)-1:,0:2].plot()"
   ]
  },
  {
   "cell_type": "markdown",
   "metadata": {},
   "source": [
    "As the years passes, Proportion between Male and female participation becomes equal."
   ]
  },
  {
   "cell_type": "code",
   "execution_count": 8,
   "metadata": {},
   "outputs": [
    {
     "data": {
      "text/plain": [
       "<matplotlib.axes._subplots.AxesSubplot at 0x11dc0906e10>"
      ]
     },
     "execution_count": 8,
     "metadata": {},
     "output_type": "execute_result"
    },
    {
     "data": {
      "image/png": "[encoded data removed]",
      "text/plain": [
       "<matplotlib.figure.Figure at 0x11dc083bef0>"
      ]
     },
     "metadata": {},
     "output_type": "display_data"
    }
   ],
   "source": [
    "pivot_2.iloc[0:len(pivot_2)-1,0:2].plot()"
   ]
  },
  {
   "cell_type": "markdown",
   "metadata": {},
   "source": [
    "obeserving a fluctuations in the data, This may be because of season variations. So split the graph for season."
   ]
  },
  {
   "cell_type": "code",
   "execution_count": 9,
   "metadata": {},
   "outputs": [
    {
     "name": "stdout",
     "output_type": "stream",
     "text": [
      "Season   Summer             Winter              All\n",
      "Sex           F         M        F        M        \n",
      "Year                                               \n",
      "1896        NaN     380.0      NaN      NaN     380\n",
      "1900       33.0    1903.0      NaN      NaN    1936\n",
      "1904       16.0    1285.0      NaN      NaN    1301\n",
      "1906       11.0    1722.0      NaN      NaN    1733\n",
      "1908       47.0    3054.0      NaN      NaN    3101\n",
      "1912       87.0    3953.0      NaN      NaN    4040\n",
      "1920      134.0    4158.0      NaN      NaN    4292\n",
      "1924      244.0    4989.0     17.0    443.0    5693\n",
      "1928      404.0    4588.0     33.0    549.0    5574\n",
      "1932      347.0    2622.0     22.0    330.0    3321\n",
      "1936      468.0    6038.0     81.0    814.0    7401\n",
      "1948      628.0    5777.0    133.0    942.0    7480\n",
      "1952     1497.0    6773.0    185.0    903.0    9358\n",
      "1956      893.0    4234.0    246.0   1061.0    6434\n",
      "1960     1435.0    6684.0    295.0    821.0    9235\n",
      "1964     1348.0    6354.0    404.0   1374.0    9480\n",
      "1968     1777.0    6811.0    416.0   1475.0   10479\n",
      "1972     2193.0    8111.0    415.0   1240.0   11959\n",
      "1976     2172.0    6469.0    434.0   1427.0   10502\n",
      "1980     1756.0    5435.0    430.0   1316.0    8937\n",
      "1984     2447.0    7007.0    536.0   1598.0   11588\n",
      "1988     3543.0    8494.0    680.0   1959.0   14676\n",
      "1992     4124.0    8853.0   1054.0   2382.0   16413\n",
      "1994        NaN       NaN   1105.0   2055.0    3160\n",
      "1996     5008.0    8772.0      NaN      NaN   13780\n",
      "1998        NaN       NaN   1384.0   2221.0    3605\n",
      "2000     5431.0    8390.0      NaN      NaN   13821\n",
      "2002        NaN       NaN   1582.0   2527.0    4109\n",
      "2004     5546.0    7897.0      NaN      NaN   13443\n",
      "2006        NaN       NaN   1757.0   2625.0    4382\n",
      "2008     5816.0    7786.0      NaN      NaN   13602\n",
      "2010        NaN       NaN   1847.0   2555.0    4402\n",
      "2012     5815.0    7105.0      NaN      NaN   12920\n",
      "2014        NaN       NaN   2023.0   2868.0    4891\n",
      "2016     6223.0    7465.0      NaN      NaN   13688\n",
      "All     59443.0  163109.0  15079.0  33485.0  271116\n"
     ]
    },
    {
     "data": {
      "text/plain": [
       "<matplotlib.axes._subplots.AxesSubplot at 0x11dc0963e48>"
      ]
     },
     "execution_count": 9,
     "metadata": {},
     "output_type": "execute_result"
    },
    {
     "data": {
      "image/png": "[encoded data removed]",
      "text/plain": [
       "<matplotlib.figure.Figure at 0x11dc0843710>"
      ]
     },
     "metadata": {},
     "output_type": "display_data"
    }
   ],
   "source": [
    "pivot_2s = pd.pivot_table(atheletes,index=[\"Year\"],columns=[\"Season\",\"Sex\"],values=\"ID\",aggfunc=\"count\",margins=True)\n",
    "print(pivot_2s)\n",
    "pivot_2s.iloc[0:len(pivot_2)-1,0:4].plot()"
   ]
  },
  {
   "cell_type": "markdown",
   "metadata": {},
   "source": [
    "Yearly parcipation is increasing.Both Male and female."
   ]
  },
  {
   "cell_type": "markdown",
   "metadata": {},
   "source": []
  },
  {
   "cell_type": "code",
   "execution_count": 10,
   "metadata": {},
   "outputs": [],
   "source": [
    "# sns.pairplot(atheletes.loc[:,[\"Age\",\"Height\",\"Weight\",\"Year\"]],dropna=True)"
   ]
  },
  {
   "cell_type": "code",
   "execution_count": 11,
   "metadata": {},
   "outputs": [
    {
     "data": {
      "text/plain": [
       "<matplotlib.axes._subplots.AxesSubplot at 0x11dc09b0940>"
      ]
     },
     "execution_count": 11,
     "metadata": {},
     "output_type": "execute_result"
    },
    {
     "data": {
      "image/png": "[encoded data removed]",
      "text/plain": [
       "<matplotlib.figure.Figure at 0x11dc06c87b8>"
      ]
     },
     "metadata": {},
     "output_type": "display_data"
    }
   ],
   "source": [
    "corr=atheletes.loc[:,[\"Age\",\"Height\",\"Weight\",\"Year\"]].corr()\n",
    "sns.heatmap(corr,annot=True)"
   ]
  },
  {
   "cell_type": "markdown",
   "metadata": {},
   "source": [
    "Height and weight are higly correlated each other. So we can assume that well maintaining their BMI."
   ]
  },
  {
   "cell_type": "code",
   "execution_count": 15,
   "metadata": {},
   "outputs": [
    {
     "data": {
      "text/html": [
       "<div>\n",
       "<style scoped>\n",
       "    .dataframe tbody tr th:only-of-type {\n",
       "        vertical-align: middle;\n",
       "    }\n",
       "\n",
       "    .dataframe tbody tr th {\n",
       "        vertical-align: top;\n",
       "    }\n",
       "\n",
       "    .dataframe thead th {\n",
       "        text-align: right;\n",
       "    }\n",
       "</style>\n",
       "<table border=\"1\" class=\"dataframe\">\n",
       "  <thead>\n",
       "    <tr style=\"text-align: right;\">\n",
       "      <th></th>\n",
       "      <th>ID</th>\n",
       "      <th>Name</th>\n",
       "      <th>Sex</th>\n",
       "      <th>Age</th>\n",
       "      <th>Height</th>\n",
       "      <th>Weight</th>\n",
       "      <th>Team</th>\n",
       "      <th>NOC</th>\n",
       "      <th>Games</th>\n",
       "      <th>Year</th>\n",
       "      <th>Season</th>\n",
       "      <th>City</th>\n",
       "      <th>Sport</th>\n",
       "      <th>Event</th>\n",
       "      <th>Medal</th>\n",
       "      <th>region</th>\n",
       "    </tr>\n",
       "  </thead>\n",
       "  <tbody>\n",
       "    <tr>\n",
       "      <th>0</th>\n",
       "      <td>1</td>\n",
       "      <td>A Dijiang</td>\n",
       "      <td>M</td>\n",
       "      <td>24.0</td>\n",
       "      <td>180.0</td>\n",
       "      <td>80.0</td>\n",
       "      <td>China</td>\n",
       "      <td>CHN</td>\n",
       "      <td>1992 Summer</td>\n",
       "      <td>1992</td>\n",
       "      <td>Summer</td>\n",
       "      <td>Barcelona</td>\n",
       "      <td>Basketball</td>\n",
       "      <td>Basketball Men's Basketball</td>\n",
       "      <td>NaN</td>\n",
       "      <td>China</td>\n",
       "    </tr>\n",
       "    <tr>\n",
       "      <th>1</th>\n",
       "      <td>2</td>\n",
       "      <td>A Lamusi</td>\n",
       "      <td>M</td>\n",
       "      <td>23.0</td>\n",
       "      <td>170.0</td>\n",
       "      <td>60.0</td>\n",
       "      <td>China</td>\n",
       "      <td>CHN</td>\n",
       "      <td>2012 Summer</td>\n",
       "      <td>2012</td>\n",
       "      <td>Summer</td>\n",
       "      <td>London</td>\n",
       "      <td>Judo</td>\n",
       "      <td>Judo Men's Extra-Lightweight</td>\n",
       "      <td>NaN</td>\n",
       "      <td>China</td>\n",
       "    </tr>\n",
       "    <tr>\n",
       "      <th>2</th>\n",
       "      <td>3</td>\n",
       "      <td>Gunnar Nielsen Aaby</td>\n",
       "      <td>M</td>\n",
       "      <td>24.0</td>\n",
       "      <td>NaN</td>\n",
       "      <td>NaN</td>\n",
       "      <td>Denmark</td>\n",
       "      <td>DEN</td>\n",
       "      <td>1920 Summer</td>\n",
       "      <td>1920</td>\n",
       "      <td>Summer</td>\n",
       "      <td>Antwerpen</td>\n",
       "      <td>Football</td>\n",
       "      <td>Football Men's Football</td>\n",
       "      <td>NaN</td>\n",
       "      <td>Denmark</td>\n",
       "    </tr>\n",
       "    <tr>\n",
       "      <th>3</th>\n",
       "      <td>4</td>\n",
       "      <td>Edgar Lindenau Aabye</td>\n",
       "      <td>M</td>\n",
       "      <td>34.0</td>\n",
       "      <td>NaN</td>\n",
       "      <td>NaN</td>\n",
       "      <td>Denmark/Sweden</td>\n",
       "      <td>DEN</td>\n",
       "      <td>1900 Summer</td>\n",
       "      <td>1900</td>\n",
       "      <td>Summer</td>\n",
       "      <td>Paris</td>\n",
       "      <td>Tug-Of-War</td>\n",
       "      <td>Tug-Of-War Men's Tug-Of-War</td>\n",
       "      <td>Gold</td>\n",
       "      <td>Denmark</td>\n",
       "    </tr>\n",
       "    <tr>\n",
       "      <th>4</th>\n",
       "      <td>5</td>\n",
       "      <td>Christine Jacoba Aaftink</td>\n",
       "      <td>F</td>\n",
       "      <td>21.0</td>\n",
       "      <td>185.0</td>\n",
       "      <td>82.0</td>\n",
       "      <td>Netherlands</td>\n",
       "      <td>NED</td>\n",
       "      <td>1988 Winter</td>\n",
       "      <td>1988</td>\n",
       "      <td>Winter</td>\n",
       "      <td>Calgary</td>\n",
       "      <td>Speed Skating</td>\n",
       "      <td>Speed Skating Women's 500 metres</td>\n",
       "      <td>NaN</td>\n",
       "      <td>Netherlands</td>\n",
       "    </tr>\n",
       "  </tbody>\n",
       "</table>\n",
       "</div>"
      ],
      "text/plain": [
       "   ID                      Name Sex   Age  Height  Weight            Team  \\\n",
       "0   1                 A Dijiang   M  24.0   180.0    80.0           China   \n",
       "1   2                  A Lamusi   M  23.0   170.0    60.0           China   \n",
       "2   3       Gunnar Nielsen Aaby   M  24.0     NaN     NaN         Denmark   \n",
       "3   4      Edgar Lindenau Aabye   M  34.0     NaN     NaN  Denmark/Sweden   \n",
       "4   5  Christine Jacoba Aaftink   F  21.0   185.0    82.0     Netherlands   \n",
       "\n",
       "   NOC        Games  Year  Season       City          Sport  \\\n",
       "0  CHN  1992 Summer  1992  Summer  Barcelona     Basketball   \n",
       "1  CHN  2012 Summer  2012  Summer     London           Judo   \n",
       "2  DEN  1920 Summer  1920  Summer  Antwerpen       Football   \n",
       "3  DEN  1900 Summer  1900  Summer      Paris     Tug-Of-War   \n",
       "4  NED  1988 Winter  1988  Winter    Calgary  Speed Skating   \n",
       "\n",
       "                              Event Medal       region  \n",
       "0       Basketball Men's Basketball   NaN        China  \n",
       "1      Judo Men's Extra-Lightweight   NaN        China  \n",
       "2           Football Men's Football   NaN      Denmark  \n",
       "3       Tug-Of-War Men's Tug-Of-War  Gold      Denmark  \n",
       "4  Speed Skating Women's 500 metres   NaN  Netherlands  "
      ]
     },
     "execution_count": 15,
     "metadata": {},
     "output_type": "execute_result"
    }
   ],
   "source": [
    "# Merging atheletes and regions Data set.\n",
    "df = atheletes.merge(regions,how=\"left\",left_on=\"NOC\",right_on=\"NOC\")\n",
    "df.head()"
   ]
  },
  {
   "cell_type": "code",
   "execution_count": null,
   "metadata": {},
   "outputs": [],
   "source": []
  },
  {
   "cell_type": "code",
   "execution_count": 25,
   "metadata": {},
   "outputs": [
    {
     "data": {
      "text/html": [
       "<div>\n",
       "<style scoped>\n",
       "    .dataframe tbody tr th:only-of-type {\n",
       "        vertical-align: middle;\n",
       "    }\n",
       "\n",
       "    .dataframe tbody tr th {\n",
       "        vertical-align: top;\n",
       "    }\n",
       "\n",
       "    .dataframe thead th {\n",
       "        text-align: right;\n",
       "    }\n",
       "</style>\n",
       "<table border=\"1\" class=\"dataframe\">\n",
       "  <thead>\n",
       "    <tr style=\"text-align: right;\">\n",
       "      <th></th>\n",
       "      <th>Team</th>\n",
       "    </tr>\n",
       "    <tr>\n",
       "      <th>region</th>\n",
       "      <th></th>\n",
       "    </tr>\n",
       "  </thead>\n",
       "  <tbody>\n",
       "    <tr>\n",
       "      <th>Afghanistan</th>\n",
       "      <td>126</td>\n",
       "    </tr>\n",
       "    <tr>\n",
       "      <th>Albania</th>\n",
       "      <td>70</td>\n",
       "    </tr>\n",
       "    <tr>\n",
       "      <th>Algeria</th>\n",
       "      <td>551</td>\n",
       "    </tr>\n",
       "    <tr>\n",
       "      <th>American Samoa</th>\n",
       "      <td>37</td>\n",
       "    </tr>\n",
       "    <tr>\n",
       "      <th>Andorra</th>\n",
       "      <td>169</td>\n",
       "    </tr>\n",
       "    <tr>\n",
       "      <th>Angola</th>\n",
       "      <td>267</td>\n",
       "    </tr>\n",
       "    <tr>\n",
       "      <th>Antigua</th>\n",
       "      <td>133</td>\n",
       "    </tr>\n",
       "    <tr>\n",
       "      <th>Argentina</th>\n",
       "      <td>3297</td>\n",
       "    </tr>\n",
       "    <tr>\n",
       "      <th>Armenia</th>\n",
       "      <td>221</td>\n",
       "    </tr>\n",
       "    <tr>\n",
       "      <th>Aruba</th>\n",
       "      <td>42</td>\n",
       "    </tr>\n",
       "    <tr>\n",
       "      <th>Australia</th>\n",
       "      <td>7724</td>\n",
       "    </tr>\n",
       "    <tr>\n",
       "      <th>Austria</th>\n",
       "      <td>5141</td>\n",
       "    </tr>\n",
       "    <tr>\n",
       "      <th>Azerbaijan</th>\n",
       "      <td>283</td>\n",
       "    </tr>\n",
       "    <tr>\n",
       "      <th>Bahamas</th>\n",
       "      <td>374</td>\n",
       "    </tr>\n",
       "    <tr>\n",
       "      <th>Bahrain</th>\n",
       "      <td>126</td>\n",
       "    </tr>\n",
       "    <tr>\n",
       "      <th>Bangladesh</th>\n",
       "      <td>55</td>\n",
       "    </tr>\n",
       "    <tr>\n",
       "      <th>Barbados</th>\n",
       "      <td>219</td>\n",
       "    </tr>\n",
       "    <tr>\n",
       "      <th>Belarus</th>\n",
       "      <td>1787</td>\n",
       "    </tr>\n",
       "    <tr>\n",
       "      <th>Belgium</th>\n",
       "      <td>3857</td>\n",
       "    </tr>\n",
       "    <tr>\n",
       "      <th>Belize</th>\n",
       "      <td>76</td>\n",
       "    </tr>\n",
       "    <tr>\n",
       "      <th>Benin</th>\n",
       "      <td>71</td>\n",
       "    </tr>\n",
       "    <tr>\n",
       "      <th>Bermuda</th>\n",
       "      <td>212</td>\n",
       "    </tr>\n",
       "    <tr>\n",
       "      <th>Bhutan</th>\n",
       "      <td>36</td>\n",
       "    </tr>\n",
       "    <tr>\n",
       "      <th>Boliva</th>\n",
       "      <td>152</td>\n",
       "    </tr>\n",
       "    <tr>\n",
       "      <th>Bosnia and Herzegovina</th>\n",
       "      <td>134</td>\n",
       "    </tr>\n",
       "    <tr>\n",
       "      <th>Botswana</th>\n",
       "      <td>90</td>\n",
       "    </tr>\n",
       "    <tr>\n",
       "      <th>Brazil</th>\n",
       "      <td>3848</td>\n",
       "    </tr>\n",
       "    <tr>\n",
       "      <th>Brunei</th>\n",
       "      <td>10</td>\n",
       "    </tr>\n",
       "    <tr>\n",
       "      <th>Bulgaria</th>\n",
       "      <td>3530</td>\n",
       "    </tr>\n",
       "    <tr>\n",
       "      <th>Burkina Faso</th>\n",
       "      <td>44</td>\n",
       "    </tr>\n",
       "    <tr>\n",
       "      <th>...</th>\n",
       "      <td>...</td>\n",
       "    </tr>\n",
       "    <tr>\n",
       "      <th>Sweden</th>\n",
       "      <td>8339</td>\n",
       "    </tr>\n",
       "    <tr>\n",
       "      <th>Switzerland</th>\n",
       "      <td>6150</td>\n",
       "    </tr>\n",
       "    <tr>\n",
       "      <th>Syria</th>\n",
       "      <td>279</td>\n",
       "    </tr>\n",
       "    <tr>\n",
       "      <th>Taiwan</th>\n",
       "      <td>1097</td>\n",
       "    </tr>\n",
       "    <tr>\n",
       "      <th>Tajikistan</th>\n",
       "      <td>70</td>\n",
       "    </tr>\n",
       "    <tr>\n",
       "      <th>Tanzania</th>\n",
       "      <td>161</td>\n",
       "    </tr>\n",
       "    <tr>\n",
       "      <th>Thailand</th>\n",
       "      <td>747</td>\n",
       "    </tr>\n",
       "    <tr>\n",
       "      <th>Timor-Leste</th>\n",
       "      <td>9</td>\n",
       "    </tr>\n",
       "    <tr>\n",
       "      <th>Togo</th>\n",
       "      <td>59</td>\n",
       "    </tr>\n",
       "    <tr>\n",
       "      <th>Tonga</th>\n",
       "      <td>46</td>\n",
       "    </tr>\n",
       "    <tr>\n",
       "      <th>Trinidad</th>\n",
       "      <td>395</td>\n",
       "    </tr>\n",
       "    <tr>\n",
       "      <th>Tunisia</th>\n",
       "      <td>561</td>\n",
       "    </tr>\n",
       "    <tr>\n",
       "      <th>Turkey</th>\n",
       "      <td>1356</td>\n",
       "    </tr>\n",
       "    <tr>\n",
       "      <th>Turkmenistan</th>\n",
       "      <td>54</td>\n",
       "    </tr>\n",
       "    <tr>\n",
       "      <th>UK</th>\n",
       "      <td>12256</td>\n",
       "    </tr>\n",
       "    <tr>\n",
       "      <th>USA</th>\n",
       "      <td>18853</td>\n",
       "    </tr>\n",
       "    <tr>\n",
       "      <th>Uganda</th>\n",
       "      <td>260</td>\n",
       "    </tr>\n",
       "    <tr>\n",
       "      <th>Ukraine</th>\n",
       "      <td>2559</td>\n",
       "    </tr>\n",
       "    <tr>\n",
       "      <th>United Arab Emirates</th>\n",
       "      <td>144</td>\n",
       "    </tr>\n",
       "    <tr>\n",
       "      <th>Uruguay</th>\n",
       "      <td>576</td>\n",
       "    </tr>\n",
       "    <tr>\n",
       "      <th>Uzbekistan</th>\n",
       "      <td>495</td>\n",
       "    </tr>\n",
       "    <tr>\n",
       "      <th>Vanuatu</th>\n",
       "      <td>35</td>\n",
       "    </tr>\n",
       "    <tr>\n",
       "      <th>Venezuela</th>\n",
       "      <td>925</td>\n",
       "    </tr>\n",
       "    <tr>\n",
       "      <th>Vietnam</th>\n",
       "      <td>216</td>\n",
       "    </tr>\n",
       "    <tr>\n",
       "      <th>Virgin Islands, British</th>\n",
       "      <td>45</td>\n",
       "    </tr>\n",
       "    <tr>\n",
       "      <th>Virgin Islands, US</th>\n",
       "      <td>294</td>\n",
       "    </tr>\n",
       "    <tr>\n",
       "      <th>Yemen</th>\n",
       "      <td>48</td>\n",
       "    </tr>\n",
       "    <tr>\n",
       "      <th>Zambia</th>\n",
       "      <td>183</td>\n",
       "    </tr>\n",
       "    <tr>\n",
       "      <th>Zimbabwe</th>\n",
       "      <td>323</td>\n",
       "    </tr>\n",
       "    <tr>\n",
       "      <th>All</th>\n",
       "      <td>270746</td>\n",
       "    </tr>\n",
       "  </tbody>\n",
       "</table>\n",
       "<p>206 rows × 1 columns</p>\n",
       "</div>"
      ],
      "text/plain": [
       "                           Team\n",
       "region                         \n",
       "Afghanistan                 126\n",
       "Albania                      70\n",
       "Algeria                     551\n",
       "American Samoa               37\n",
       "Andorra                     169\n",
       "Angola                      267\n",
       "Antigua                     133\n",
       "Argentina                  3297\n",
       "Armenia                     221\n",
       "Aruba                        42\n",
       "Australia                  7724\n",
       "Austria                    5141\n",
       "Azerbaijan                  283\n",
       "Bahamas                     374\n",
       "Bahrain                     126\n",
       "Bangladesh                   55\n",
       "Barbados                    219\n",
       "Belarus                    1787\n",
       "Belgium                    3857\n",
       "Belize                       76\n",
       "Benin                        71\n",
       "Bermuda                     212\n",
       "Bhutan                       36\n",
       "Boliva                      152\n",
       "Bosnia and Herzegovina      134\n",
       "Botswana                     90\n",
       "Brazil                     3848\n",
       "Brunei                       10\n",
       "Bulgaria                   3530\n",
       "Burkina Faso                 44\n",
       "...                         ...\n",
       "Sweden                     8339\n",
       "Switzerland                6150\n",
       "Syria                       279\n",
       "Taiwan                     1097\n",
       "Tajikistan                   70\n",
       "Tanzania                    161\n",
       "Thailand                    747\n",
       "Timor-Leste                   9\n",
       "Togo                         59\n",
       "Tonga                        46\n",
       "Trinidad                    395\n",
       "Tunisia                     561\n",
       "Turkey                     1356\n",
       "Turkmenistan                 54\n",
       "UK                        12256\n",
       "USA                       18853\n",
       "Uganda                      260\n",
       "Ukraine                    2559\n",
       "United Arab Emirates        144\n",
       "Uruguay                     576\n",
       "Uzbekistan                  495\n",
       "Vanuatu                      35\n",
       "Venezuela                   925\n",
       "Vietnam                     216\n",
       "Virgin Islands, British      45\n",
       "Virgin Islands, US          294\n",
       "Yemen                        48\n",
       "Zambia                      183\n",
       "Zimbabwe                    323\n",
       "All                      270746\n",
       "\n",
       "[206 rows x 1 columns]"
      ]
     },
     "execution_count": 25,
     "metadata": {},
     "output_type": "execute_result"
    }
   ],
   "source": [
    "# print(\"Count for regions\",df.region.value_counts())\n",
    "# print(\"Count or Team\",df.Team.value_counts())\n",
    "\n",
    "\n",
    "# pd.pivot_table(data=df,index=\"region\",columns=\"Team\",values=\"ID\",aggfunc=\"count\",margins=True)\n",
    "pd.pivot_table(data=df,index=\"region\",values=\"Team\",aggfunc=\"count\",margins=True)\n",
    "# Showing the number of Participants from each Region\n"
   ]
  },
  {
   "cell_type": "code",
   "execution_count": 26,
   "metadata": {},
   "outputs": [
    {
     "data": {
      "text/plain": [
       "ID             0\n",
       "Name           0\n",
       "Sex            0\n",
       "Age         9474\n",
       "Height     60171\n",
       "Weight     62875\n",
       "Team           0\n",
       "NOC            0\n",
       "Games          0\n",
       "Year           0\n",
       "Season         0\n",
       "City           0\n",
       "Sport          0\n",
       "Event          0\n",
       "Medal     231333\n",
       "region       370\n",
       "dtype: int64"
      ]
     },
     "execution_count": 26,
     "metadata": {},
     "output_type": "execute_result"
    }
   ],
   "source": [
    "df.isnull().sum()"
   ]
  },
  {
   "cell_type": "code",
   "execution_count": 29,
   "metadata": {},
   "outputs": [],
   "source": [
    "# We have many missing values. Since not all the Participant atheletes could win medals, Let replace these missing values by \n",
    "# not win or \"DNW\"\n",
    "df[\"Medal\"].fillna(\"DNW\",inplace=True)"
   ]
  },
  {
   "cell_type": "code",
   "execution_count": 41,
   "metadata": {},
   "outputs": [
    {
     "data": {
      "text/html": [
       "<div>\n",
       "<style scoped>\n",
       "    .dataframe tbody tr th:only-of-type {\n",
       "        vertical-align: middle;\n",
       "    }\n",
       "\n",
       "    .dataframe tbody tr th {\n",
       "        vertical-align: top;\n",
       "    }\n",
       "\n",
       "    .dataframe thead th {\n",
       "        text-align: right;\n",
       "    }\n",
       "</style>\n",
       "<table border=\"1\" class=\"dataframe\">\n",
       "  <thead>\n",
       "    <tr style=\"text-align: right;\">\n",
       "      <th></th>\n",
       "      <th>Team</th>\n",
       "      <th>NOC</th>\n",
       "    </tr>\n",
       "  </thead>\n",
       "  <tbody>\n",
       "    <tr>\n",
       "      <th>578</th>\n",
       "      <td>Singapore</td>\n",
       "      <td>SGP</td>\n",
       "    </tr>\n",
       "    <tr>\n",
       "      <th>6267</th>\n",
       "      <td>Refugee Olympic Athletes</td>\n",
       "      <td>ROT</td>\n",
       "    </tr>\n",
       "    <tr>\n",
       "      <th>44376</th>\n",
       "      <td>June Climene</td>\n",
       "      <td>SGP</td>\n",
       "    </tr>\n",
       "    <tr>\n",
       "      <th>61080</th>\n",
       "      <td>Unknown</td>\n",
       "      <td>UNK</td>\n",
       "    </tr>\n",
       "    <tr>\n",
       "      <th>64674</th>\n",
       "      <td>Tuvalu</td>\n",
       "      <td>TUV</td>\n",
       "    </tr>\n",
       "    <tr>\n",
       "      <th>80986</th>\n",
       "      <td>Rika II</td>\n",
       "      <td>SGP</td>\n",
       "    </tr>\n",
       "    <tr>\n",
       "      <th>108582</th>\n",
       "      <td>Singapore-2</td>\n",
       "      <td>SGP</td>\n",
       "    </tr>\n",
       "    <tr>\n",
       "      <th>235895</th>\n",
       "      <td>Singapore-1</td>\n",
       "      <td>SGP</td>\n",
       "    </tr>\n",
       "  </tbody>\n",
       "</table>\n",
       "</div>"
      ],
      "text/plain": [
       "                            Team  NOC\n",
       "578                    Singapore  SGP\n",
       "6267    Refugee Olympic Athletes  ROT\n",
       "44376               June Climene  SGP\n",
       "61080                    Unknown  UNK\n",
       "64674                     Tuvalu  TUV\n",
       "80986                    Rika II  SGP\n",
       "108582               Singapore-2  SGP\n",
       "235895               Singapore-1  SGP"
      ]
     },
     "execution_count": 41,
     "metadata": {},
     "output_type": "execute_result"
    }
   ],
   "source": [
    "df.loc[df.region.isnull(),[\"Team\",\"NOC\"]].drop_duplicates()\n"
   ]
  },
  {
   "cell_type": "code",
   "execution_count": 44,
   "metadata": {},
   "outputs": [],
   "source": [
    "# So We have to make manual modifications in the data.\n",
    "\n",
    "df.loc[df[\"NOC\"]==\"SGP\",[\"region\"]]=\"Singapore\"\n",
    "df.loc[df[\"NOC\"]==\"ROT\",[\"region\"]]=\"Refugee Olympic Athletes\"\n",
    "df.loc[df[\"NOC\"]==\"UNK\",[\"region\"]]=\"Unknown\"\n",
    "df.loc[df[\"NOC\"]==\"TUV\",[\"region\"]]=\"Tuvalu\"\n",
    "\n",
    "# df.loc[df[\"NOC\"]==\"SGP\",[\"region\"]].drop_duplicates()\n",
    "\n",
    "\n"
   ]
  },
  {
   "cell_type": "code",
   "execution_count": 48,
   "metadata": {},
   "outputs": [
    {
     "data": {
      "text/plain": [
       "count    261642.000000\n",
       "mean         25.556898\n",
       "std           6.393561\n",
       "min          10.000000\n",
       "25%          21.000000\n",
       "50%          24.000000\n",
       "75%          28.000000\n",
       "max          97.000000\n",
       "Name: Age, dtype: float64"
      ]
     },
     "execution_count": 48,
     "metadata": {},
     "output_type": "execute_result"
    },
    {
     "data": {
      "image/png": "[encoded data removed]",
      "text/plain": [
       "<matplotlib.figure.Figure at 0x11dcd8f3518>"
      ]
     },
     "metadata": {},
     "output_type": "display_data"
    }
   ],
   "source": [
    "# Analysis By Age.\n",
    "\n",
    "df.Age.plot(kind=\"hist\",title=\"Age Distribution\")\n",
    "df.Age.describe()\n"
   ]
  },
  {
   "cell_type": "code",
   "execution_count": 71,
   "metadata": {},
   "outputs": [
    {
     "data": {
      "text/plain": [
       "<matplotlib.axes._subplots.AxesSubplot at 0x11dcf122da0>"
      ]
     },
     "execution_count": 71,
     "metadata": {},
     "output_type": "execute_result"
    },
    {
     "data": {
      "image/png": "[encoded data removed]",
      "text/plain": [
       "<matplotlib.figure.Figure at 0x11dcf216c18>"
      ]
     },
     "metadata": {},
     "output_type": "display_data"
    }
   ],
   "source": [
    "# df.Age.plot(kind=\"hist\",title=\"Age Distribution\",grid=True,colormap=\"winter_r\")\n",
    "age_plot = pd.pivot_table(data=df,index=\"Age\",columns=\"Sex\",values=\"ID\",aggfunc=\"count\",margins=True)\n",
    "age_plot = pd.DataFrame(age_plot)\n",
    "age_plot.iloc[0:len(age_plot)-1,0:2].plot(grid=\"True\")"
   ]
  },
  {
   "cell_type": "code",
   "execution_count": 72,
   "metadata": {},
   "outputs": [],
   "source": [
    "# Females are strting bit earlier than male,\n",
    "# NUmber of male participation between age 18 to 25 more than female."
   ]
  },
  {
   "cell_type": "code",
   "execution_count": 84,
   "metadata": {},
   "outputs": [
    {
     "data": {
      "text/plain": [
       "<matplotlib.axes._subplots.AxesSubplot at 0x11dd148d6a0>"
      ]
     },
     "execution_count": 84,
     "metadata": {},
     "output_type": "execute_result"
    },
    {
     "data": {
      "image/png": "[encoded data removed]",
      "text/plain": [
       "<matplotlib.figure.Figure at 0x11dd0f51588>"
      ]
     },
     "metadata": {},
     "output_type": "display_data"
    }
   ],
   "source": [
    "# Lets compare the same over the years.\n",
    "age_year_plot = pd.pivot_table(data=df,index=\"Year\",columns=[\"Sex\"],values=\"Age\",aggfunc=\"mean\",margins=True)\n",
    "age_year_plot = pd.DataFrame(age_year_plot)\n",
    "# age_year_plot.fillna(0,inplace=True)\n",
    "\n",
    "\n",
    "age_year_plot.iloc[0:len(age_year_plot)-1,0:2].plot(grid=\"True\")\n",
    "\n",
    "# For females, average age was high in the past.later average male age became high.\n"
   ]
  },
  {
   "cell_type": "code",
   "execution_count": 108,
   "metadata": {},
   "outputs": [
    {
     "data": {
      "text/html": [
       "<div>\n",
       "<style scoped>\n",
       "    .dataframe tbody tr th:only-of-type {\n",
       "        vertical-align: middle;\n",
       "    }\n",
       "\n",
       "    .dataframe tbody tr th {\n",
       "        vertical-align: top;\n",
       "    }\n",
       "\n",
       "    .dataframe thead th {\n",
       "        text-align: right;\n",
       "    }\n",
       "</style>\n",
       "<table border=\"1\" class=\"dataframe\">\n",
       "  <thead>\n",
       "    <tr style=\"text-align: right;\">\n",
       "      <th>region</th>\n",
       "      <th>Afghanistan</th>\n",
       "      <th>Albania</th>\n",
       "      <th>Algeria</th>\n",
       "      <th>American Samoa</th>\n",
       "      <th>Andorra</th>\n",
       "      <th>Angola</th>\n",
       "      <th>Antigua</th>\n",
       "      <th>Argentina</th>\n",
       "      <th>Armenia</th>\n",
       "      <th>Aruba</th>\n",
       "      <th>...</th>\n",
       "      <th>Uzbekistan</th>\n",
       "      <th>Vanuatu</th>\n",
       "      <th>Venezuela</th>\n",
       "      <th>Vietnam</th>\n",
       "      <th>Virgin Islands, British</th>\n",
       "      <th>Virgin Islands, US</th>\n",
       "      <th>Yemen</th>\n",
       "      <th>Zambia</th>\n",
       "      <th>Zimbabwe</th>\n",
       "      <th>All</th>\n",
       "    </tr>\n",
       "    <tr>\n",
       "      <th>Year</th>\n",
       "      <th></th>\n",
       "      <th></th>\n",
       "      <th></th>\n",
       "      <th></th>\n",
       "      <th></th>\n",
       "      <th></th>\n",
       "      <th></th>\n",
       "      <th></th>\n",
       "      <th></th>\n",
       "      <th></th>\n",
       "      <th></th>\n",
       "      <th></th>\n",
       "      <th></th>\n",
       "      <th></th>\n",
       "      <th></th>\n",
       "      <th></th>\n",
       "      <th></th>\n",
       "      <th></th>\n",
       "      <th></th>\n",
       "      <th></th>\n",
       "      <th></th>\n",
       "    </tr>\n",
       "  </thead>\n",
       "  <tbody>\n",
       "    <tr>\n",
       "      <th>1896</th>\n",
       "      <td>NaN</td>\n",
       "      <td>NaN</td>\n",
       "      <td>NaN</td>\n",
       "      <td>NaN</td>\n",
       "      <td>NaN</td>\n",
       "      <td>NaN</td>\n",
       "      <td>NaN</td>\n",
       "      <td>NaN</td>\n",
       "      <td>NaN</td>\n",
       "      <td>NaN</td>\n",
       "      <td>...</td>\n",
       "      <td>NaN</td>\n",
       "      <td>NaN</td>\n",
       "      <td>NaN</td>\n",
       "      <td>NaN</td>\n",
       "      <td>NaN</td>\n",
       "      <td>NaN</td>\n",
       "      <td>NaN</td>\n",
       "      <td>NaN</td>\n",
       "      <td>NaN</td>\n",
       "      <td>380</td>\n",
       "    </tr>\n",
       "    <tr>\n",
       "      <th>1900</th>\n",
       "      <td>NaN</td>\n",
       "      <td>NaN</td>\n",
       "      <td>NaN</td>\n",
       "      <td>NaN</td>\n",
       "      <td>NaN</td>\n",
       "      <td>NaN</td>\n",
       "      <td>NaN</td>\n",
       "      <td>1.0</td>\n",
       "      <td>NaN</td>\n",
       "      <td>NaN</td>\n",
       "      <td>...</td>\n",
       "      <td>NaN</td>\n",
       "      <td>NaN</td>\n",
       "      <td>NaN</td>\n",
       "      <td>NaN</td>\n",
       "      <td>NaN</td>\n",
       "      <td>NaN</td>\n",
       "      <td>NaN</td>\n",
       "      <td>NaN</td>\n",
       "      <td>NaN</td>\n",
       "      <td>1936</td>\n",
       "    </tr>\n",
       "    <tr>\n",
       "      <th>1904</th>\n",
       "      <td>NaN</td>\n",
       "      <td>NaN</td>\n",
       "      <td>NaN</td>\n",
       "      <td>NaN</td>\n",
       "      <td>NaN</td>\n",
       "      <td>NaN</td>\n",
       "      <td>NaN</td>\n",
       "      <td>NaN</td>\n",
       "      <td>NaN</td>\n",
       "      <td>NaN</td>\n",
       "      <td>...</td>\n",
       "      <td>NaN</td>\n",
       "      <td>NaN</td>\n",
       "      <td>NaN</td>\n",
       "      <td>NaN</td>\n",
       "      <td>NaN</td>\n",
       "      <td>NaN</td>\n",
       "      <td>NaN</td>\n",
       "      <td>NaN</td>\n",
       "      <td>NaN</td>\n",
       "      <td>1301</td>\n",
       "    </tr>\n",
       "    <tr>\n",
       "      <th>1906</th>\n",
       "      <td>NaN</td>\n",
       "      <td>NaN</td>\n",
       "      <td>NaN</td>\n",
       "      <td>NaN</td>\n",
       "      <td>NaN</td>\n",
       "      <td>NaN</td>\n",
       "      <td>NaN</td>\n",
       "      <td>NaN</td>\n",
       "      <td>NaN</td>\n",
       "      <td>NaN</td>\n",
       "      <td>...</td>\n",
       "      <td>NaN</td>\n",
       "      <td>NaN</td>\n",
       "      <td>NaN</td>\n",
       "      <td>NaN</td>\n",
       "      <td>NaN</td>\n",
       "      <td>NaN</td>\n",
       "      <td>NaN</td>\n",
       "      <td>NaN</td>\n",
       "      <td>NaN</td>\n",
       "      <td>1733</td>\n",
       "    </tr>\n",
       "    <tr>\n",
       "      <th>1908</th>\n",
       "      <td>NaN</td>\n",
       "      <td>NaN</td>\n",
       "      <td>NaN</td>\n",
       "      <td>NaN</td>\n",
       "      <td>NaN</td>\n",
       "      <td>NaN</td>\n",
       "      <td>NaN</td>\n",
       "      <td>1.0</td>\n",
       "      <td>NaN</td>\n",
       "      <td>NaN</td>\n",
       "      <td>...</td>\n",
       "      <td>NaN</td>\n",
       "      <td>NaN</td>\n",
       "      <td>NaN</td>\n",
       "      <td>NaN</td>\n",
       "      <td>NaN</td>\n",
       "      <td>NaN</td>\n",
       "      <td>NaN</td>\n",
       "      <td>NaN</td>\n",
       "      <td>NaN</td>\n",
       "      <td>3101</td>\n",
       "    </tr>\n",
       "  </tbody>\n",
       "</table>\n",
       "<p>5 rows × 210 columns</p>\n",
       "</div>"
      ],
      "text/plain": [
       "region  Afghanistan  Albania  Algeria  American Samoa  Andorra  Angola  \\\n",
       "Year                                                                     \n",
       "1896            NaN      NaN      NaN             NaN      NaN     NaN   \n",
       "1900            NaN      NaN      NaN             NaN      NaN     NaN   \n",
       "1904            NaN      NaN      NaN             NaN      NaN     NaN   \n",
       "1906            NaN      NaN      NaN             NaN      NaN     NaN   \n",
       "1908            NaN      NaN      NaN             NaN      NaN     NaN   \n",
       "\n",
       "region  Antigua  Argentina  Armenia  Aruba  ...   Uzbekistan  Vanuatu  \\\n",
       "Year                                        ...                         \n",
       "1896        NaN        NaN      NaN    NaN  ...          NaN      NaN   \n",
       "1900        NaN        1.0      NaN    NaN  ...          NaN      NaN   \n",
       "1904        NaN        NaN      NaN    NaN  ...          NaN      NaN   \n",
       "1906        NaN        NaN      NaN    NaN  ...          NaN      NaN   \n",
       "1908        NaN        1.0      NaN    NaN  ...          NaN      NaN   \n",
       "\n",
       "region  Venezuela  Vietnam  Virgin Islands, British  Virgin Islands, US  \\\n",
       "Year                                                                      \n",
       "1896          NaN      NaN                      NaN                 NaN   \n",
       "1900          NaN      NaN                      NaN                 NaN   \n",
       "1904          NaN      NaN                      NaN                 NaN   \n",
       "1906          NaN      NaN                      NaN                 NaN   \n",
       "1908          NaN      NaN                      NaN                 NaN   \n",
       "\n",
       "region  Yemen  Zambia  Zimbabwe   All  \n",
       "Year                                   \n",
       "1896      NaN     NaN       NaN   380  \n",
       "1900      NaN     NaN       NaN  1936  \n",
       "1904      NaN     NaN       NaN  1301  \n",
       "1906      NaN     NaN       NaN  1733  \n",
       "1908      NaN     NaN       NaN  3101  \n",
       "\n",
       "[5 rows x 210 columns]"
      ]
     },
     "execution_count": 108,
     "metadata": {},
     "output_type": "execute_result"
    }
   ],
   "source": [
    "#  Analsis By TEAM.\n",
    "# Total Number of Teams Participated (Unique).\n",
    "\n",
    "# df[\"Team\"].count_values()\n",
    "\n",
    "len(df[\"Team\"].drop_duplicates()) # 1184 Unique Teams and 206 Countries.\n",
    "\n",
    "## Num of Countries Distribution Over the years.\n",
    "team_year_plot = pd.pivot_table(data=df,index=\"Year\",columns=\"region\",values=\"ID\",aggfunc=\"count\",margins=True)\n",
    "team_year_plot = pd.DataFrame(team_year_plot)\n",
    "team_year_plot.head()\n"
   ]
  },
  {
   "cell_type": "code",
   "execution_count": 118,
   "metadata": {},
   "outputs": [
    {
     "data": {
      "text/plain": [
       "<matplotlib.axes._subplots.AxesSubplot at 0x11dd10d1ef0>"
      ]
     },
     "execution_count": 118,
     "metadata": {},
     "output_type": "execute_result"
    },
    {
     "data": {
      "image/png": "[encoded data removed]",
      "text/plain": [
       "<matplotlib.figure.Figure at 0x11dcd368da0>"
      ]
     },
     "metadata": {},
     "output_type": "display_data"
    }
   ],
   "source": [
    "team_tot = pd.DataFrame(206 - team_year_plot.isnull().sum(axis=1))\n",
    "team_tot.plot()  ## Number of Particiption is increasing yearly"
   ]
  },
  {
   "cell_type": "code",
   "execution_count": null,
   "metadata": {},
   "outputs": [],
   "source": [
    "## MEDAL WINNERS\n"
   ]
  },
  {
   "cell_type": "code",
   "execution_count": null,
   "metadata": {},
   "outputs": [],
   "source": []
  },
  {
   "cell_type": "code",
   "execution_count": null,
   "metadata": {},
   "outputs": [],
   "source": []
  }
 ],
 "metadata": {
  "kernelspec": {
   "display_name": "Python 3",
   "language": "python",
   "name": "python3"
  },
  "language_info": {
   "codemirror_mode": {
    "name": "ipython",
    "version": 3
   },
   "file_extension": ".py",
   "mimetype": "text/x-python",
   "name": "python",
   "nbconvert_exporter": "python",
   "pygments_lexer": "ipython3",
   "version": "3.6.4"
  }
 },
 "nbformat": 4,
 "nbformat_minor": 2
}
